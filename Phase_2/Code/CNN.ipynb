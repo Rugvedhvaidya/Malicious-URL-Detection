{
 "cells": [
  {
   "cell_type": "markdown",
   "metadata": {
    "id": "SEY1TSK_c4Ko"
   },
   "source": [
    "# CNN Implementation"
   ]
  },
  {
   "cell_type": "markdown",
   "metadata": {
    "id": "ZH88Wyc5dE7b"
   },
   "source": [
    "Importing libraries"
   ]
  },
  {
   "cell_type": "code",
   "execution_count": null,
   "metadata": {
    "id": "kP0W0LTPcwjz"
   },
   "outputs": [],
   "source": [
    "# first neural network with keras tutorial\n",
    "import pandas as pd\n",
    "from keras.models import Sequential\n",
    "from keras.layers import Dense"
   ]
  },
  {
   "cell_type": "markdown",
   "metadata": {
    "id": "Q-KsX7qFeytA"
   },
   "source": [
    "Upload Data"
   ]
  },
  {
   "cell_type": "code",
   "execution_count": null,
   "metadata": {
    "colab": {
     "base_uri": "https://localhost:8080/",
     "height": 74,
     "resources": {
      "http://localhost:8080/nbextensions/google.colab/files.js": {
       "data": "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",
       "headers": [
        [
         "content-type",
         "application/javascript"
        ]
       ],
       "ok": true,
       "status": 200,
       "status_text": ""
      }
     }
    },
    "id": "ANtUoneGex1S",
    "outputId": "f49a5ba3-92aa-4ccf-d56e-5194a34c9199"
   },
   "outputs": [
    {
     "data": {
      "text/html": [
       "\n",
       "     <input type=\"file\" id=\"files-4ced2614-1d27-48ad-a38e-22d85d634dc3\" name=\"files[]\" multiple disabled\n",
       "        style=\"border:none\" />\n",
       "     <output id=\"result-4ced2614-1d27-48ad-a38e-22d85d634dc3\">\n",
       "      Upload widget is only available when the cell has been executed in the\n",
       "      current browser session. Please rerun this cell to enable.\n",
       "      </output>\n",
       "      <script src=\"/nbextensions/google.colab/files.js\"></script> "
      ],
      "text/plain": [
       "<IPython.core.display.HTML object>"
      ]
     },
     "metadata": {},
     "output_type": "display_data"
    },
    {
     "name": "stdout",
     "output_type": "stream",
     "text": [
      "Saving Featured_Dataset.csv to Featured_Dataset (2).csv\n"
     ]
    }
   ],
   "source": [
    "from google.colab import files\n",
    "dataset = files.upload()"
   ]
  },
  {
   "cell_type": "markdown",
   "metadata": {
    "id": "6dwRQE2fdsUf"
   },
   "source": [
    "Loading Data"
   ]
  },
  {
   "cell_type": "code",
   "execution_count": null,
   "metadata": {
    "colab": {
     "base_uri": "https://localhost:8080/"
    },
    "id": "ZVJJ3WuSdASX",
    "outputId": "329f50f6-b37a-4976-f1de-59146b20c50f"
   },
   "outputs": [
    {
     "name": "stdout",
     "output_type": "stream",
     "text": [
      "      MU_dots  MU_hypens  MU_at  MU_and  MU_percentage  MU_slash  MU_star  \\\n",
      "0           1          0      0       0              0         0        0   \n",
      "1           1          0      0       0              0         0        0   \n",
      "2           1          2      0       0              0         0        0   \n",
      "3           1          0      0       0              0         0        0   \n",
      "4           3          0      0       1              0         5        0   \n",
      "...       ...        ...    ...     ...            ...       ...      ...   \n",
      "9993        1          1      0       1              0         2        0   \n",
      "9994        1          0      0       0             27         4        0   \n",
      "9995        2          0      0       0              0         2        0   \n",
      "9996        2          2      0       4              0         3        0   \n",
      "9997        1          1      0       0              0         1        0   \n",
      "\n",
      "      MU_comma  MU_semicolon  MU_dollar  ...  MU_underscore  MU_equal  \\\n",
      "0            0             0          0  ...              0         0   \n",
      "1            0             0          0  ...              0         0   \n",
      "2            0             0          0  ...              0         0   \n",
      "3            0             0          0  ...              0         0   \n",
      "4            0             0          0  ...              0         2   \n",
      "...        ...           ...        ...  ...            ...       ...   \n",
      "9993         0             0          0  ...              9         2   \n",
      "9994         0             0          0  ...              0         0   \n",
      "9995         0             0          0  ...              0         0   \n",
      "9996         0             0          0  ...              1         5   \n",
      "9997         0             0          0  ...              0         1   \n",
      "\n",
      "      MU_hash  length  having_ip  redirection  https_domain  pish_word  \\\n",
      "0           0       0          0            0             1          0   \n",
      "1           0       0          0            0             1          0   \n",
      "2           0       1          0            0             1          0   \n",
      "3           0       0          0            0             1          0   \n",
      "4           0       0          0            0             1          0   \n",
      "...       ...     ...        ...          ...           ...        ...   \n",
      "9993        0       0          0            0             1          0   \n",
      "9994        0       1          0            0             1          0   \n",
      "9995        0       0          0            0             1          0   \n",
      "9996        0       1          0            0             1          0   \n",
      "9997        0       0          0            0             1          0   \n",
      "\n",
      "      has_tinyURL  length_longest_word  \n",
      "0               0                   19  \n",
      "1               0                   16  \n",
      "2               0                   90  \n",
      "3               0                   14  \n",
      "4               1                   37  \n",
      "...           ...                  ...  \n",
      "9993            0                   19  \n",
      "9994            0                   52  \n",
      "9995            0                   32  \n",
      "9996            0                   86  \n",
      "9997            0                   19  \n",
      "\n",
      "[9998 rows x 23 columns]\n",
      "0       0\n",
      "1       0\n",
      "2       0\n",
      "3       0\n",
      "4       0\n",
      "       ..\n",
      "9993    1\n",
      "9994    0\n",
      "9995    1\n",
      "9996    0\n",
      "9997    1\n",
      "Name: label, Length: 9998, dtype: int64\n"
     ]
    }
   ],
   "source": [
    "# load the dataset\n",
    "dataset = pd.read_csv(r\"Featured_Dataset.csv\")\n",
    "# split into input (X) and output (y) variables\n",
    "dataset.rename(columns = {'type':'label'}, inplace = True)\n",
    "dataset.head()\n",
    "\n",
    "y = dataset.label\n",
    "x = dataset.drop('label', axis=1)\n",
    "print(x)\n",
    "print(y)"
   ]
  },
  {
   "cell_type": "markdown",
   "metadata": {
    "id": "tmXazIVFdkhC"
   },
   "source": [
    "Defining Keras Models"
   ]
  },
  {
   "cell_type": "code",
   "execution_count": null,
   "metadata": {
    "id": "O8VQ8oNvdgNx"
   },
   "outputs": [],
   "source": [
    "# define the keras model\n",
    "model = Sequential()\n",
    "model.add(Dense(12, input_dim=23, activation='relu'))\n",
    "model.add(Dense(8, activation='relu'))\n",
    "model.add(Dense(1, activation='sigmoid'))"
   ]
  },
  {
   "cell_type": "markdown",
   "metadata": {
    "id": "TIeSCUICdwnX"
   },
   "source": [
    "Compile Keras Model"
   ]
  },
  {
   "cell_type": "code",
   "execution_count": null,
   "metadata": {
    "colab": {
     "base_uri": "https://localhost:8080/"
    },
    "id": "-la1NK4MdjqQ",
    "outputId": "6cdb4985-e338-4983-b17a-a74345c22d76"
   },
   "outputs": [
    {
     "data": {
      "text/plain": [
       "Ellipsis"
      ]
     },
     "execution_count": 50,
     "metadata": {},
     "output_type": "execute_result"
    }
   ],
   "source": [
    "...\n",
    "# compile the keras model\n",
    "model.compile(loss='binary_crossentropy', optimizer='adam', metrics=['accuracy'])\n",
    "..."
   ]
  },
  {
   "cell_type": "markdown",
   "metadata": {
    "id": "8x9TtkxFd2aj"
   },
   "source": [
    "Fit Keras Model"
   ]
  },
  {
   "cell_type": "code",
   "execution_count": null,
   "metadata": {
    "colab": {
     "base_uri": "https://localhost:8080/"
    },
    "id": "mN0EZ-CWd4gm",
    "outputId": "ae5c0d13-929a-4733-e216-9f066573c25e"
   },
   "outputs": [
    {
     "name": "stdout",
     "output_type": "stream",
     "text": [
      "Epoch 1/50\n",
      "625/625 [==============================] - 3s 4ms/step - loss: 0.8311 - accuracy: 0.5687\n",
      "Epoch 2/50\n",
      "625/625 [==============================] - 2s 4ms/step - loss: 0.6018 - accuracy: 0.6710\n",
      "Epoch 3/50\n",
      "625/625 [==============================] - 2s 3ms/step - loss: 0.5790 - accuracy: 0.6952\n",
      "Epoch 4/50\n",
      "625/625 [==============================] - 2s 4ms/step - loss: 0.5654 - accuracy: 0.7065\n",
      "Epoch 5/50\n",
      "625/625 [==============================] - 2s 4ms/step - loss: 0.5617 - accuracy: 0.7075\n",
      "Epoch 6/50\n",
      "625/625 [==============================] - 2s 4ms/step - loss: 0.5355 - accuracy: 0.7228\n",
      "Epoch 7/50\n",
      "625/625 [==============================] - 2s 3ms/step - loss: 0.4496 - accuracy: 0.8661\n",
      "Epoch 8/50\n",
      "625/625 [==============================] - 2s 4ms/step - loss: 0.3323 - accuracy: 0.9295\n",
      "Epoch 9/50\n",
      "625/625 [==============================] - 2s 4ms/step - loss: 0.2442 - accuracy: 0.9553\n",
      "Epoch 10/50\n",
      "625/625 [==============================] - 2s 3ms/step - loss: 0.1879 - accuracy: 0.9638\n",
      "Epoch 11/50\n",
      "625/625 [==============================] - 2s 4ms/step - loss: 0.1554 - accuracy: 0.9670\n",
      "Epoch 12/50\n",
      "625/625 [==============================] - 2s 4ms/step - loss: 0.1384 - accuracy: 0.9683\n",
      "Epoch 13/50\n",
      "625/625 [==============================] - 2s 4ms/step - loss: 0.1320 - accuracy: 0.9665\n",
      "Epoch 14/50\n",
      "625/625 [==============================] - 2s 4ms/step - loss: 0.1333 - accuracy: 0.9636\n",
      "Epoch 15/50\n",
      "625/625 [==============================] - 2s 4ms/step - loss: 0.1166 - accuracy: 0.9679\n",
      "Epoch 16/50\n",
      "625/625 [==============================] - 2s 3ms/step - loss: 0.1194 - accuracy: 0.9659\n",
      "Epoch 17/50\n",
      "625/625 [==============================] - 2s 4ms/step - loss: 0.1387 - accuracy: 0.9603\n",
      "Epoch 18/50\n",
      "625/625 [==============================] - 2s 4ms/step - loss: 0.1308 - accuracy: 0.9622\n",
      "Epoch 19/50\n",
      "625/625 [==============================] - 2s 4ms/step - loss: 0.1145 - accuracy: 0.9669\n",
      "Epoch 20/50\n",
      "625/625 [==============================] - 2s 4ms/step - loss: 0.1104 - accuracy: 0.9673\n",
      "Epoch 21/50\n",
      "625/625 [==============================] - 2s 4ms/step - loss: 0.1099 - accuracy: 0.9681\n",
      "Epoch 22/50\n",
      "625/625 [==============================] - 2s 4ms/step - loss: 0.1066 - accuracy: 0.9678\n",
      "Epoch 23/50\n",
      "625/625 [==============================] - 2s 4ms/step - loss: 0.1104 - accuracy: 0.9664\n",
      "Epoch 24/50\n",
      "625/625 [==============================] - 2s 4ms/step - loss: 0.1054 - accuracy: 0.9692\n",
      "Epoch 25/50\n",
      "625/625 [==============================] - 2s 4ms/step - loss: 0.1137 - accuracy: 0.9661\n",
      "Epoch 26/50\n",
      "625/625 [==============================] - 2s 4ms/step - loss: 0.1163 - accuracy: 0.9642\n",
      "Epoch 27/50\n",
      "625/625 [==============================] - 2s 4ms/step - loss: 0.1054 - accuracy: 0.9683\n",
      "Epoch 28/50\n",
      "625/625 [==============================] - 2s 4ms/step - loss: 0.1125 - accuracy: 0.9663\n",
      "Epoch 29/50\n",
      "625/625 [==============================] - 2s 4ms/step - loss: 0.1021 - accuracy: 0.9691\n",
      "Epoch 30/50\n",
      "625/625 [==============================] - 2s 3ms/step - loss: 0.1035 - accuracy: 0.9689\n",
      "Epoch 31/50\n",
      "625/625 [==============================] - 2s 4ms/step - loss: 0.1011 - accuracy: 0.9680\n",
      "Epoch 32/50\n",
      "625/625 [==============================] - 2s 4ms/step - loss: 0.0997 - accuracy: 0.9694\n",
      "Epoch 33/50\n",
      "625/625 [==============================] - 2s 4ms/step - loss: 0.0987 - accuracy: 0.9697\n",
      "Epoch 34/50\n",
      "625/625 [==============================] - 2s 4ms/step - loss: 0.0991 - accuracy: 0.9674\n",
      "Epoch 35/50\n",
      "625/625 [==============================] - 2s 4ms/step - loss: 0.1098 - accuracy: 0.9651\n",
      "Epoch 36/50\n",
      "625/625 [==============================] - 2s 4ms/step - loss: 0.0939 - accuracy: 0.9708\n",
      "Epoch 37/50\n",
      "625/625 [==============================] - 2s 4ms/step - loss: 0.0933 - accuracy: 0.9696\n",
      "Epoch 38/50\n",
      "625/625 [==============================] - 2s 4ms/step - loss: 0.0916 - accuracy: 0.9700\n",
      "Epoch 39/50\n",
      "625/625 [==============================] - 2s 4ms/step - loss: 0.1063 - accuracy: 0.9668\n",
      "Epoch 40/50\n",
      "625/625 [==============================] - 2s 4ms/step - loss: 0.1057 - accuracy: 0.9673\n",
      "Epoch 41/50\n",
      "625/625 [==============================] - 2s 4ms/step - loss: 0.1029 - accuracy: 0.9690\n",
      "Epoch 42/50\n",
      "625/625 [==============================] - 2s 4ms/step - loss: 0.1007 - accuracy: 0.9675\n",
      "Epoch 43/50\n",
      "625/625 [==============================] - 2s 4ms/step - loss: 0.0921 - accuracy: 0.9695\n",
      "Epoch 44/50\n",
      "625/625 [==============================] - 2s 4ms/step - loss: 0.0871 - accuracy: 0.9718\n",
      "Epoch 45/50\n",
      "625/625 [==============================] - 2s 4ms/step - loss: 0.1011 - accuracy: 0.9684\n",
      "Epoch 46/50\n",
      "625/625 [==============================] - 2s 4ms/step - loss: 0.0907 - accuracy: 0.9703\n",
      "Epoch 47/50\n",
      "625/625 [==============================] - 2s 4ms/step - loss: 0.1048 - accuracy: 0.9673\n",
      "Epoch 48/50\n",
      "625/625 [==============================] - 2s 4ms/step - loss: 0.0909 - accuracy: 0.9710\n",
      "Epoch 49/50\n",
      "625/625 [==============================] - 2s 4ms/step - loss: 0.0898 - accuracy: 0.9712\n",
      "Epoch 50/50\n",
      "625/625 [==============================] - 2s 4ms/step - loss: 0.0890 - accuracy: 0.9712\n"
     ]
    },
    {
     "data": {
      "text/plain": [
       "Ellipsis"
      ]
     },
     "execution_count": 51,
     "metadata": {},
     "output_type": "execute_result"
    }
   ],
   "source": [
    "...\n",
    "# fit the keras model on the dataset\n",
    "model.fit(x, y, epochs=50, batch_size=16)\n",
    "..."
   ]
  },
  {
   "cell_type": "markdown",
   "metadata": {
    "id": "tKjwmGa9d8BB"
   },
   "source": [
    "Evaluate Keras Model"
   ]
  },
  {
   "cell_type": "code",
   "execution_count": null,
   "metadata": {
    "colab": {
     "base_uri": "https://localhost:8080/"
    },
    "id": "gRHNJIp6d-hT",
    "outputId": "a922e431-e494-4c67-e09e-e430a79ca3f3"
   },
   "outputs": [
    {
     "name": "stdout",
     "output_type": "stream",
     "text": [
      "313/313 [==============================] - 1s 3ms/step - loss: 0.0812 - accuracy: 0.9742\n",
      "Accuracy: 97.42\n"
     ]
    }
   ],
   "source": [
    "...\n",
    "# evaluate the keras model\n",
    "_, accuracy = model.evaluate(x, y)\n",
    "print('Accuracy: %.2f' % (accuracy*100))"
   ]
  }
 ],
 "metadata": {
  "accelerator": "GPU",
  "colab": {
   "collapsed_sections": [],
   "name": "CNN.ipynb",
   "provenance": []
  },
  "kernelspec": {
   "display_name": "Python 3 (ipykernel)",
   "language": "python",
   "name": "python3"
  },
  "language_info": {
   "codemirror_mode": {
    "name": "ipython",
    "version": 3
   },
   "file_extension": ".py",
   "mimetype": "text/x-python",
   "name": "python",
   "nbconvert_exporter": "python",
   "pygments_lexer": "ipython3",
   "version": "3.9.7"
  }
 },
 "nbformat": 4,
 "nbformat_minor": 1
}
