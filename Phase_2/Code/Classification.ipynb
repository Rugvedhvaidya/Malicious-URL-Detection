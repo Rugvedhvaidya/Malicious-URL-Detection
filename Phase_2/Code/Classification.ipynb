{
 "cells": [
  {
   "cell_type": "code",
   "execution_count": 1,
   "metadata": {
    "id": "jiK_nlVVVGxG"
   },
   "outputs": [],
   "source": [
    "import pandas as pd\n",
    "import numpy as np\n",
    "from sklearn.model_selection import train_test_split\n",
    "from sklearn.ensemble import RandomForestClassifier\n",
    "from sklearn import metrics \n",
    "from sklearn.metrics import accuracy_score, precision_score, recall_score, f1_score, explained_variance_score\n",
    "from sklearn.svm import SVC\n",
    "from sklearn.metrics import classification_report, confusion_matrix\n",
    "from sklearn.linear_model import LinearRegression\n",
    "from sklearn.neighbors import KNeighborsClassifier"
   ]
  },
  {
   "cell_type": "code",
   "execution_count": 29,
   "metadata": {
    "id": "tf1s0UP1Vnyf"
   },
   "outputs": [],
   "source": [
    "dataframe = pd.read_csv(r\"dataset_urls.csv\")"
   ]
  },
  {
   "cell_type": "code",
   "execution_count": 30,
   "metadata": {
    "colab": {
     "base_uri": "https://localhost:8080/"
    },
    "id": "mcBpBPZMYRPx",
    "outputId": "49b054eb-ef0f-4635-b1dd-6045a6d1e062"
   },
   "outputs": [
    {
     "name": "stdout",
     "output_type": "stream",
     "text": [
      "       MU_dots  MU_hypens  MU_at  MU_and  MU_percentage  MU_slash  MU_star  \\\n",
      "0            2         12      0       0              0         3        0   \n",
      "1            2          1      0       0              0         7        0   \n",
      "2            2          0      0       0              0         4        0   \n",
      "3            1          1      0       0             20         6        0   \n",
      "4            3          1      0       0              1         8        0   \n",
      "...        ...        ...    ...     ...            ...       ...      ...   \n",
      "19795        3          2      0       0              0         5        0   \n",
      "19796        2          0      0       0              0         5        0   \n",
      "19797        2          0      0       0              0         4        0   \n",
      "19798        5          1      0       0              0         8        0   \n",
      "19799        2          1      0       0              0         7        0   \n",
      "\n",
      "       MU_comma  MU_semicolon  MU_dollar  ...  MU_underscore  MU_equal  \\\n",
      "0             0             0          0  ...              0         0   \n",
      "1             0             0          0  ...              0         0   \n",
      "2             0             0          0  ...              0         0   \n",
      "3             0             0          0  ...              0         1   \n",
      "4             0             0          0  ...              0         0   \n",
      "...         ...           ...        ...  ...            ...       ...   \n",
      "19795         0             0          0  ...              0         0   \n",
      "19796         0             0          0  ...              0         0   \n",
      "19797         0             0          0  ...              0         0   \n",
      "19798         0             0          0  ...              0         1   \n",
      "19799         0             0          0  ...              3         0   \n",
      "\n",
      "       MU_hash  length  having_ip  redirection  https_domain  pish_word  \\\n",
      "0            0       1          0            0             1          0   \n",
      "1            0       1          0            0             1          1   \n",
      "2            0       0          0            0             1          1   \n",
      "3            0       1          0            0             1          0   \n",
      "4            0       1          0            0             1          1   \n",
      "...        ...     ...        ...          ...           ...        ...   \n",
      "19795        0       1          0            0             1          0   \n",
      "19796        0       0          0            0             1          1   \n",
      "19797        0       0          0            0             1          0   \n",
      "19798        0       1          0            0             1          1   \n",
      "19799        0       1          0            0             1          1   \n",
      "\n",
      "       has_tinyURL  length_longest_word  \n",
      "0                0                   66  \n",
      "1                0                   32  \n",
      "2                0                   16  \n",
      "3                0                  222  \n",
      "4                0                   24  \n",
      "...            ...                  ...  \n",
      "19795            0                   38  \n",
      "19796            0                   20  \n",
      "19797            0                   15  \n",
      "19798            1                   35  \n",
      "19799            0                   38  \n",
      "\n",
      "[19800 rows x 23 columns]\n",
      "0        0\n",
      "1        1\n",
      "2        1\n",
      "3        0\n",
      "4        1\n",
      "        ..\n",
      "19795    1\n",
      "19796    1\n",
      "19797    1\n",
      "19798    1\n",
      "19799    1\n",
      "Name: label, Length: 19800, dtype: int64\n"
     ]
    }
   ],
   "source": [
    "dataframe.rename(columns = {'type':'label'}, inplace = True)\n",
    "dataframe = dataframe.drop('url', axis = 1)\n",
    "dataframe.head()\n",
    "\n",
    "y = dataframe.label\n",
    "x = dataframe.drop('label', axis=1)\n",
    "print(x)\n",
    "print(y)"
   ]
  },
  {
   "cell_type": "code",
   "execution_count": 32,
   "metadata": {
    "id": "hWO29wQ4Z_qR"
   },
   "outputs": [],
   "source": [
    "x_train,x_test,y_train,y_test=train_test_split(x,y,test_size=0.2)"
   ]
  },
  {
   "cell_type": "code",
   "execution_count": 33,
   "metadata": {
    "colab": {
     "base_uri": "https://localhost:8080/"
    },
    "id": "FUULBXglaGWY",
    "outputId": "94f9d4c3-9fc8-48c6-a75b-f3b61e458539"
   },
   "outputs": [
    {
     "name": "stdout",
     "output_type": "stream",
     "text": [
      "shape of original dataset : (19800, 24)\n",
      "shape of input - training set (15840, 23)\n",
      "shape of output - training set (15840,)\n",
      "shape of input - testing set (3960, 23)\n",
      "shape of output - testing set (3960,)\n"
     ]
    }
   ],
   "source": [
    "print(\"shape of original dataset :\", dataframe.shape)\n",
    "print(\"shape of input - training set\", x_train.shape)\n",
    "print(\"shape of output - training set\", y_train.shape)\n",
    "print(\"shape of input - testing set\", x_test.shape)\n",
    "print(\"shape of output - testing set\", y_test.shape)"
   ]
  },
  {
   "cell_type": "markdown",
   "metadata": {
    "id": "jXcSlHJ5Fr7f"
   },
   "source": [
    "## __Random Forest Classification using Scikit Learn__"
   ]
  },
  {
   "cell_type": "code",
   "execution_count": 43,
   "metadata": {
    "colab": {
     "base_uri": "https://localhost:8080/"
    },
    "id": "VTKFz2J0aTgS",
    "outputId": "0ad53f7f-248b-4e92-eabd-6919482d6e9d"
   },
   "outputs": [
    {
     "name": "stdout",
     "output_type": "stream",
     "text": [
      "[[987  20]\n",
      " [ 26 967]]\n",
      "Accuracy of the model using Random Classifier is:  0.977\n",
      "Recall of the model using Random Classifier is:  0.973816717019134\n",
      "Precision of the model using Random Classifier is:  0.9797365754812564\n",
      "F1 Score of the model using Random Classifier is:  0.9767676767676767\n",
      "              precision    recall  f1-score   support\n",
      "\n",
      "           0       0.97      0.98      0.98      1007\n",
      "           1       0.98      0.97      0.98       993\n",
      "\n",
      "    accuracy                           0.98      2000\n",
      "   macro avg       0.98      0.98      0.98      2000\n",
      "weighted avg       0.98      0.98      0.98      2000\n",
      "\n"
     ]
    }
   ],
   "source": [
    "clf = RandomForestClassifier(n_estimators = 100) \n",
    "clf.fit(x_train, y_train)\n",
    "y_pred = clf.predict(x_test)\n",
    "print(confusion_matrix(y_test, y_pred))\n",
    "print(\"Accuracy of the model using Random Classifier is: \", accuracy_score(y_test, y_pred))\n",
    "print(\"Recall of the model using Random Classifier is: \", recall_score(y_test, y_pred))\n",
    "print(\"Precision of the model using Random Classifier is: \", precision_score(y_test, y_pred))\n",
    "print(\"F1 Score of the model using Random Classifier is: \", f1_score(y_test, y_pred))\n",
    "\n",
    "print(classification_report(y_test, y_pred))\n"
   ]
  },
  {
   "cell_type": "code",
   "execution_count": null,
   "metadata": {
    "id": "hlcbuVIrtAym"
   },
   "outputs": [],
   "source": []
  },
  {
   "cell_type": "markdown",
   "metadata": {
    "id": "OsSLU-LsFLLZ"
   },
   "source": [
    "## __Support Vector Machines(SVM) Classification using Sci-kit Learn__"
   ]
  },
  {
   "cell_type": "code",
   "execution_count": 25,
   "metadata": {
    "id": "1Wx9oSuWzMyO"
   },
   "outputs": [
    {
     "data": {
      "text/plain": [
       "SVC(kernel='linear', shrinking=False)"
      ]
     },
     "execution_count": 25,
     "metadata": {},
     "output_type": "execute_result"
    }
   ],
   "source": [
    "from sklearn.preprocessing import StandardScaler\n",
    "sc = StandardScaler()\n",
    "x_train = sc.fit_transform(x_train)\n",
    "x_test = sc.transform(x_test)\n",
    "svclassifier = SVC(kernel='linear', gamma = 'scale', shrinking = False)\n",
    "svclassifier.fit(x_train, y_train)"
   ]
  },
  {
   "cell_type": "code",
   "execution_count": 26,
   "metadata": {
    "id": "Kf4e3qzPr6CM"
   },
   "outputs": [],
   "source": [
    "y_pred = svclassifier.predict(x_test)"
   ]
  },
  {
   "cell_type": "code",
   "execution_count": 27,
   "metadata": {
    "colab": {
     "base_uri": "https://localhost:8080/"
    },
    "id": "yNMS4TSMr9K0",
    "outputId": "c6e8cf51-ed7b-4173-81d1-31d381e6a4c3"
   },
   "outputs": [
    {
     "name": "stdout",
     "output_type": "stream",
     "text": [
      "Accuracy of the model using SVM Classifier is:  0.9215\n",
      "Recall of the model using SVM Classifier is:  0.8932527693856999\n",
      "Precision of the model using SVM Classifier is:  0.9456289978678039\n",
      "F1 Score of the model using SVM Classifier is:  0.9186949766960124\n",
      "[[956  51]\n",
      " [106 887]]\n",
      "              precision    recall  f1-score   support\n",
      "\n",
      "           0       0.90      0.95      0.92      1007\n",
      "           1       0.95      0.89      0.92       993\n",
      "\n",
      "    accuracy                           0.92      2000\n",
      "   macro avg       0.92      0.92      0.92      2000\n",
      "weighted avg       0.92      0.92      0.92      2000\n",
      "\n"
     ]
    }
   ],
   "source": [
    "print(\"Accuracy of the model using SVM Classifier is: \", accuracy_score(y_test, y_pred))\n",
    "print(\"Recall of the model using SVM Classifier is: \", recall_score(y_test, y_pred))\n",
    "print(\"Precision of the model using SVM Classifier is: \", precision_score(y_test, y_pred))\n",
    "print(\"F1 Score of the model using SVM Classifier is: \", f1_score(y_test, y_pred))\n",
    "print(confusion_matrix(y_test, y_pred))\n",
    "print(classification_report(y_test, y_pred))"
   ]
  },
  {
   "cell_type": "code",
   "execution_count": 28,
   "metadata": {},
   "outputs": [
    {
     "data": {
      "text/plain": [
       "SVC(kernel='poly', shrinking=False)"
      ]
     },
     "execution_count": 28,
     "metadata": {},
     "output_type": "execute_result"
    }
   ],
   "source": [
    "svclassifier = SVC(kernel='poly', gamma = 'scale', shrinking = False)\n",
    "svclassifier.fit(x_train, y_train)"
   ]
  },
  {
   "cell_type": "code",
   "execution_count": 29,
   "metadata": {},
   "outputs": [],
   "source": [
    "y_pred = svclassifier.predict(x_test)"
   ]
  },
  {
   "cell_type": "code",
   "execution_count": 30,
   "metadata": {},
   "outputs": [
    {
     "name": "stdout",
     "output_type": "stream",
     "text": [
      "Accuracy of the model using SVM Poly Classifier is:  0.886\n",
      "Recall of the model using SVM Poly Classifier is:  0.8187311178247734\n",
      "Precision of the model using SVM Poly Classifier is:  0.9442508710801394\n",
      "F1 Score of the model using SVM Poly Classifier is:  0.8770226537216828\n",
      "[[959  48]\n",
      " [180 813]]\n",
      "              precision    recall  f1-score   support\n",
      "\n",
      "           0       0.84      0.95      0.89      1007\n",
      "           1       0.94      0.82      0.88       993\n",
      "\n",
      "    accuracy                           0.89      2000\n",
      "   macro avg       0.89      0.89      0.89      2000\n",
      "weighted avg       0.89      0.89      0.89      2000\n",
      "\n"
     ]
    }
   ],
   "source": [
    "print(\"Accuracy of the model using SVM Poly Classifier is: \", accuracy_score(y_test, y_pred))\n",
    "print(\"Recall of the model using SVM Poly Classifier is: \", recall_score(y_test, y_pred))\n",
    "print(\"Precision of the model using SVM Poly Classifier is: \", precision_score(y_test, y_pred))\n",
    "print(\"F1 Score of the model using SVM Poly Classifier is: \", f1_score(y_test, y_pred))\n",
    "print(confusion_matrix(y_test, y_pred))\n",
    "print(classification_report(y_test, y_pred))"
   ]
  },
  {
   "cell_type": "code",
   "execution_count": 51,
   "metadata": {},
   "outputs": [
    {
     "data": {
      "text/plain": [
       "SVC(shrinking=False)"
      ]
     },
     "execution_count": 51,
     "metadata": {},
     "output_type": "execute_result"
    }
   ],
   "source": [
    "svclassifier = SVC(kernel='rbf', gamma = 'scale', shrinking = False)\n",
    "svclassifier.fit(x_train, y_train)"
   ]
  },
  {
   "cell_type": "code",
   "execution_count": 52,
   "metadata": {},
   "outputs": [],
   "source": [
    "y_pred = svclassifier.predict(x_test)"
   ]
  },
  {
   "cell_type": "code",
   "execution_count": 53,
   "metadata": {},
   "outputs": [
    {
     "name": "stdout",
     "output_type": "stream",
     "text": [
      "Accuracy of the model using SVM rbf Classifier is:  0.9705\n",
      "Recall of the model using SVM rbf Classifier is:  0.9697885196374623\n",
      "Precision of the model using SVM rbf Classifier is:  0.9707661290322581\n",
      "F1 Score of the model using SVM rbf Classifier is:  0.9702770780856425\n",
      "[[978  29]\n",
      " [ 30 963]]\n",
      "              precision    recall  f1-score   support\n",
      "\n",
      "           0       0.97      0.97      0.97      1007\n",
      "           1       0.97      0.97      0.97       993\n",
      "\n",
      "    accuracy                           0.97      2000\n",
      "   macro avg       0.97      0.97      0.97      2000\n",
      "weighted avg       0.97      0.97      0.97      2000\n",
      "\n"
     ]
    }
   ],
   "source": [
    "print(\"Accuracy of the model using SVM rbf Classifier is: \", accuracy_score(y_test, y_pred))\n",
    "print(\"Recall of the model using SVM rbf Classifier is: \", recall_score(y_test, y_pred))\n",
    "print(\"Precision of the model using SVM rbf Classifier is: \", precision_score(y_test, y_pred))\n",
    "print(\"F1 Score of the model using SVM rbf Classifier is: \", f1_score(y_test, y_pred))\n",
    "print(confusion_matrix(y_test, y_pred))\n",
    "print(classification_report(y_test, y_pred))"
   ]
  },
  {
   "cell_type": "markdown",
   "metadata": {
    "id": "eH-l_zjfFkcq"
   },
   "source": [
    "Multiple Linear Regression using Scikit Learn"
   ]
  },
  {
   "cell_type": "code",
   "execution_count": 45,
   "metadata": {
    "colab": {
     "base_uri": "https://localhost:8080/"
    },
    "id": "Vn_HVG6TAGE2",
    "outputId": "d8f90eb9-4949-463e-bd02-eb6da008c052"
   },
   "outputs": [
    {
     "data": {
      "text/plain": [
       "LinearRegression()"
      ]
     },
     "execution_count": 45,
     "metadata": {},
     "output_type": "execute_result"
    }
   ],
   "source": [
    "regressor = LinearRegression()\n",
    "regressor.fit(x_train, y_train)"
   ]
  },
  {
   "cell_type": "code",
   "execution_count": 75,
   "metadata": {
    "colab": {
     "base_uri": "https://localhost:8080/",
     "height": 614
    },
    "id": "d7HzJd9zBqWO",
    "outputId": "8b0de11f-6f67-46ec-8feb-c84dab39ae86"
   },
   "outputs": [
    {
     "data": {
      "text/html": [
       "<div>\n",
       "<style scoped>\n",
       "    .dataframe tbody tr th:only-of-type {\n",
       "        vertical-align: middle;\n",
       "    }\n",
       "\n",
       "    .dataframe tbody tr th {\n",
       "        vertical-align: top;\n",
       "    }\n",
       "\n",
       "    .dataframe thead th {\n",
       "        text-align: right;\n",
       "    }\n",
       "</style>\n",
       "<table border=\"1\" class=\"dataframe\">\n",
       "  <thead>\n",
       "    <tr style=\"text-align: right;\">\n",
       "      <th></th>\n",
       "      <th>Coefficient</th>\n",
       "    </tr>\n",
       "  </thead>\n",
       "  <tbody>\n",
       "    <tr>\n",
       "      <th>MU_dots</th>\n",
       "      <td>-3.462210e-02</td>\n",
       "    </tr>\n",
       "    <tr>\n",
       "      <th>MU_hypens</th>\n",
       "      <td>8.943356e-02</td>\n",
       "    </tr>\n",
       "    <tr>\n",
       "      <th>MU_at</th>\n",
       "      <td>3.179230e-03</td>\n",
       "    </tr>\n",
       "    <tr>\n",
       "      <th>MU_and</th>\n",
       "      <td>-6.588937e-02</td>\n",
       "    </tr>\n",
       "    <tr>\n",
       "      <th>MU_percentage</th>\n",
       "      <td>2.701702e-02</td>\n",
       "    </tr>\n",
       "    <tr>\n",
       "      <th>MU_slash</th>\n",
       "      <td>2.000640e-01</td>\n",
       "    </tr>\n",
       "    <tr>\n",
       "      <th>MU_star</th>\n",
       "      <td>-1.942890e-16</td>\n",
       "    </tr>\n",
       "    <tr>\n",
       "      <th>MU_comma</th>\n",
       "      <td>9.274517e-04</td>\n",
       "    </tr>\n",
       "    <tr>\n",
       "      <th>MU_semicolon</th>\n",
       "      <td>-1.664304e-03</td>\n",
       "    </tr>\n",
       "    <tr>\n",
       "      <th>MU_dollar</th>\n",
       "      <td>2.766237e-02</td>\n",
       "    </tr>\n",
       "    <tr>\n",
       "      <th>MU_colon</th>\n",
       "      <td>-3.316879e-01</td>\n",
       "    </tr>\n",
       "    <tr>\n",
       "      <th>MU_question</th>\n",
       "      <td>4.782568e-02</td>\n",
       "    </tr>\n",
       "    <tr>\n",
       "      <th>MU_space</th>\n",
       "      <td>-4.336809e-18</td>\n",
       "    </tr>\n",
       "    <tr>\n",
       "      <th>MU_underscore</th>\n",
       "      <td>4.390782e-02</td>\n",
       "    </tr>\n",
       "    <tr>\n",
       "      <th>MU_equal</th>\n",
       "      <td>8.714388e-02</td>\n",
       "    </tr>\n",
       "    <tr>\n",
       "      <th>MU_hash</th>\n",
       "      <td>-4.585584e-03</td>\n",
       "    </tr>\n",
       "    <tr>\n",
       "      <th>length</th>\n",
       "      <td>-8.774188e-03</td>\n",
       "    </tr>\n",
       "    <tr>\n",
       "      <th>age</th>\n",
       "      <td>2.074436e-01</td>\n",
       "    </tr>\n",
       "  </tbody>\n",
       "</table>\n",
       "</div>"
      ],
      "text/plain": [
       "                Coefficient\n",
       "MU_dots       -3.462210e-02\n",
       "MU_hypens      8.943356e-02\n",
       "MU_at          3.179230e-03\n",
       "MU_and        -6.588937e-02\n",
       "MU_percentage  2.701702e-02\n",
       "MU_slash       2.000640e-01\n",
       "MU_star       -1.942890e-16\n",
       "MU_comma       9.274517e-04\n",
       "MU_semicolon  -1.664304e-03\n",
       "MU_dollar      2.766237e-02\n",
       "MU_colon      -3.316879e-01\n",
       "MU_question    4.782568e-02\n",
       "MU_space      -4.336809e-18\n",
       "MU_underscore  4.390782e-02\n",
       "MU_equal       8.714388e-02\n",
       "MU_hash       -4.585584e-03\n",
       "length        -8.774188e-03\n",
       "age            2.074436e-01"
      ]
     },
     "execution_count": 75,
     "metadata": {},
     "output_type": "execute_result"
    }
   ],
   "source": [
    "coeff_df = pd.DataFrame(regressor.coef_, x.columns, columns=['Coefficient'])\n",
    "coeff_df"
   ]
  },
  {
   "cell_type": "code",
   "execution_count": 76,
   "metadata": {
    "id": "rPJP5Y-ADJIS"
   },
   "outputs": [],
   "source": [
    "y_pred = regressor.predict(x_test)"
   ]
  },
  {
   "cell_type": "code",
   "execution_count": 77,
   "metadata": {
    "colab": {
     "base_uri": "https://localhost:8080/",
     "height": 423
    },
    "id": "sswKFTy7DP1W",
    "outputId": "66ecbfa3-70d9-4448-a704-241fd580c81c"
   },
   "outputs": [
    {
     "data": {
      "text/html": [
       "<div>\n",
       "<style scoped>\n",
       "    .dataframe tbody tr th:only-of-type {\n",
       "        vertical-align: middle;\n",
       "    }\n",
       "\n",
       "    .dataframe tbody tr th {\n",
       "        vertical-align: top;\n",
       "    }\n",
       "\n",
       "    .dataframe thead th {\n",
       "        text-align: right;\n",
       "    }\n",
       "</style>\n",
       "<table border=\"1\" class=\"dataframe\">\n",
       "  <thead>\n",
       "    <tr style=\"text-align: right;\">\n",
       "      <th></th>\n",
       "      <th>Actual</th>\n",
       "      <th>Predicted</th>\n",
       "    </tr>\n",
       "  </thead>\n",
       "  <tbody>\n",
       "    <tr>\n",
       "      <th>1364</th>\n",
       "      <td>1</td>\n",
       "      <td>0.746014</td>\n",
       "    </tr>\n",
       "    <tr>\n",
       "      <th>2004</th>\n",
       "      <td>1</td>\n",
       "      <td>0.754865</td>\n",
       "    </tr>\n",
       "    <tr>\n",
       "      <th>3109</th>\n",
       "      <td>0</td>\n",
       "      <td>0.283383</td>\n",
       "    </tr>\n",
       "    <tr>\n",
       "      <th>336</th>\n",
       "      <td>1</td>\n",
       "      <td>0.659635</td>\n",
       "    </tr>\n",
       "    <tr>\n",
       "      <th>568</th>\n",
       "      <td>0</td>\n",
       "      <td>0.166398</td>\n",
       "    </tr>\n",
       "    <tr>\n",
       "      <th>...</th>\n",
       "      <td>...</td>\n",
       "      <td>...</td>\n",
       "    </tr>\n",
       "    <tr>\n",
       "      <th>2861</th>\n",
       "      <td>1</td>\n",
       "      <td>0.881275</td>\n",
       "    </tr>\n",
       "    <tr>\n",
       "      <th>6078</th>\n",
       "      <td>0</td>\n",
       "      <td>0.043670</td>\n",
       "    </tr>\n",
       "    <tr>\n",
       "      <th>8798</th>\n",
       "      <td>1</td>\n",
       "      <td>1.178037</td>\n",
       "    </tr>\n",
       "    <tr>\n",
       "      <th>3152</th>\n",
       "      <td>1</td>\n",
       "      <td>0.700073</td>\n",
       "    </tr>\n",
       "    <tr>\n",
       "      <th>4622</th>\n",
       "      <td>1</td>\n",
       "      <td>0.579691</td>\n",
       "    </tr>\n",
       "  </tbody>\n",
       "</table>\n",
       "<p>2000 rows × 2 columns</p>\n",
       "</div>"
      ],
      "text/plain": [
       "      Actual  Predicted\n",
       "1364       1   0.746014\n",
       "2004       1   0.754865\n",
       "3109       0   0.283383\n",
       "336        1   0.659635\n",
       "568        0   0.166398\n",
       "...      ...        ...\n",
       "2861       1   0.881275\n",
       "6078       0   0.043670\n",
       "8798       1   1.178037\n",
       "3152       1   0.700073\n",
       "4622       1   0.579691\n",
       "\n",
       "[2000 rows x 2 columns]"
      ]
     },
     "execution_count": 77,
     "metadata": {},
     "output_type": "execute_result"
    }
   ],
   "source": [
    "linear_reg = pd.DataFrame({'Actual': y_test, 'Predicted': y_pred})\n",
    "linear_reg"
   ]
  },
  {
   "cell_type": "code",
   "execution_count": 78,
   "metadata": {
    "id": "QwmFGK5pu5N5"
   },
   "outputs": [
    {
     "name": "stdout",
     "output_type": "stream",
     "text": [
      "Accuracy of the model using Multiple Linear Regression Classifier is:  0.5737536113568996\n"
     ]
    }
   ],
   "source": [
    "print(\"Accuracy of the model using Multiple Linear Regression Classifier is: \", explained_variance_score(y_test, y_pred))\n",
    "# print(classification_report(y_test, y_pred))"
   ]
  },
  {
   "cell_type": "code",
   "execution_count": 79,
   "metadata": {
    "colab": {
     "base_uri": "https://localhost:8080/"
    },
    "id": "5jNLshugDhwu",
    "outputId": "ae5fd83b-1ab5-47f3-d685-bb647541d43a"
   },
   "outputs": [
    {
     "name": "stdout",
     "output_type": "stream",
     "text": [
      "Mean Absolute Error: 0.2574969170724968\n",
      "Mean Squared Error: 0.10658125437199834\n",
      "Root Mean Squared Error: 0.3264678458470272\n"
     ]
    }
   ],
   "source": [
    "print('Mean Absolute Error:', metrics.mean_absolute_error(y_test, y_pred))\n",
    "print('Mean Squared Error:', metrics.mean_squared_error(y_test, y_pred))\n",
    "print('Root Mean Squared Error:', np.sqrt(metrics.mean_squared_error(y_test, y_pred)))"
   ]
  },
  {
   "cell_type": "code",
   "execution_count": null,
   "metadata": {},
   "outputs": [],
   "source": [
    "from sklearn import metrics\n",
    "# We are going to run it for k = 1 to 15 and will be recording testing accuracy, plotting it, showing confusion matrix and classification report:\n",
    "Range_k = range(1,15)\n",
    "scores = {}\n",
    "scores_list = []\n",
    "for k in range_k:\n",
    "   classifier = KNeighborsClassifier(n_neighbors=k)\n",
    "   classifier.fit(X_train, y_train)\n",
    "   y_pred = classifier.predict(X_test)\n",
    "   scores[k] = metrics.accuracy_score(y_test,y_pred)\n",
    "   scores_list.append(metrics.accuracy_score(y_test,y_pred))\n",
    "result = metrics.confusion_matrix(y_test, y_pred)\n",
    "print(\"Confusion Matrix:\")\n",
    "print(result)\n",
    "result1 = metrics.classification_report(y_test, y_pred)\n",
    "print(\"Classification Report:\",)\n",
    "print (result1)"
   ]
  },
  {
   "cell_type": "markdown",
   "metadata": {},
   "source": [
    "## __Logistic Regression__"
   ]
  },
  {
   "cell_type": "code",
   "execution_count": 34,
   "metadata": {},
   "outputs": [],
   "source": [
    "from sklearn.linear_model import LogisticRegression\n",
    "from sklearn.preprocessing import StandardScaler\n",
    "sc = StandardScaler()\n",
    "x_train = sc.fit_transform(x_train)\n",
    "x_test = sc.transform(x_test)\n",
    "logistic_regression = LogisticRegression()\n",
    "logistic_regression.fit(x_train,y_train)\n",
    "y_pred=logistic_regression.predict(x_test)"
   ]
  },
  {
   "cell_type": "code",
   "execution_count": 35,
   "metadata": {},
   "outputs": [
    {
     "data": {
      "text/plain": [
       "array([[1773,  186],\n",
       "       [ 154, 1847]], dtype=int64)"
      ]
     },
     "execution_count": 35,
     "metadata": {},
     "output_type": "execute_result"
    }
   ],
   "source": [
    "cnf_matrix = confusion_matrix(y_test, y_pred)\n",
    "cnf_matrix"
   ]
  },
  {
   "cell_type": "code",
   "execution_count": 36,
   "metadata": {},
   "outputs": [
    {
     "name": "stdout",
     "output_type": "stream",
     "text": [
      "Accuracy using Logistic Regression:  0.9141414141414141\n",
      "Precision using Logistic Regression:  0.9085095917363503\n",
      "Recall using Logistic Regression:  0.9230384807596201\n",
      "F1 score using Logistic Regression:  0.9157164105106594\n"
     ]
    }
   ],
   "source": [
    "print(\"Accuracy using Logistic Regression: \",accuracy_score(y_test, y_pred))\n",
    "print(\"Precision using Logistic Regression: \",precision_score(y_test, y_pred))\n",
    "print(\"Recall using Logistic Regression: \",recall_score(y_test, y_pred))\n",
    "print(\"F1 score using Logistic Regression: \",f1_score(y_test, y_pred))"
   ]
  },
  {
   "cell_type": "markdown",
   "metadata": {},
   "source": [
    "KNN Algorithm"
   ]
  },
  {
   "cell_type": "code",
   "execution_count": 59,
   "metadata": {},
   "outputs": [
    {
     "name": "stdout",
     "output_type": "stream",
     "text": [
      "Accuracy of the model using KNN Algorithm is:  0.964\n",
      "Precision of the model using KNN Algorithm is:  0.9646821392532795\n",
      "Recall of the model using KNN Algorithm is:  0.9627391742195368\n",
      "F1 Score of the model using KNN Algorithm is:  0.9637096774193548\n"
     ]
    }
   ],
   "source": [
    "knn = KNeighborsClassifier(n_neighbors=3)\n",
    "knn.fit(x_train, y_train)\n",
    "y_pred = knn.predict(x_test)\n",
    "print(\"Accuracy of the model using KNN Algorithm is: \", accuracy_score(y_test, y_pred))\n",
    "print(\"Precision of the model using KNN Algorithm is: \", precision_score(y_test, y_pred))\n",
    "print(\"Recall of the model using KNN Algorithm is: \", recall_score(y_test, y_pred))\n",
    "print(\"F1 Score of the model using KNN Algorithm is: \", f1_score(y_test, y_pred))"
   ]
  },
  {
   "cell_type": "code",
   "execution_count": 60,
   "metadata": {},
   "outputs": [
    {
     "name": "stdout",
     "output_type": "stream",
     "text": [
      "Accuracy of the model using KNN Algorithm is:  0.964\n",
      "Precision of the model using KNN Algorithm is:  0.9628140703517588\n",
      "Recall of the model using KNN Algorithm is:  0.9647532729103726\n",
      "F1 Score of the model using KNN Algorithm is:  0.9637826961770624\n"
     ]
    }
   ],
   "source": [
    "knn = KNeighborsClassifier(n_neighbors=5)\n",
    "knn.fit(x_train, y_train)\n",
    "y_pred = knn.predict(x_test)\n",
    "print(\"Accuracy of the model using KNN Algorithm is: \", accuracy_score(y_test, y_pred))\n",
    "print(\"Precision of the model using KNN Algorithm is: \", precision_score(y_test, y_pred))\n",
    "print(\"Recall of the model using KNN Algorithm is: \", recall_score(y_test, y_pred))\n",
    "print(\"F1 Score of the model using KNN Algorithm is: \", f1_score(y_test, y_pred))"
   ]
  },
  {
   "cell_type": "code",
   "execution_count": 56,
   "metadata": {},
   "outputs": [
    {
     "name": "stdout",
     "output_type": "stream",
     "text": [
      "Accuracy of the model using KNN Algorithm is:  0.959\n",
      "Precision of the model using KNN Algorithm is:  0.9691040164778579\n",
      "Recall of the model using KNN Algorithm is:  0.9476334340382678\n",
      "F1 Score of the model using KNN Algorithm is:  0.9582484725050917\n"
     ]
    }
   ],
   "source": [
    "knn = KNeighborsClassifier(n_neighbors=10)\n",
    "knn.fit(x_train, y_train)\n",
    "y_pred = knn.predict(x_test)\n",
    "print(\"Accuracy of the model using KNN Algorithm is: \", accuracy_score(y_test, y_pred))\n",
    "print(\"Precision of the model using KNN Algorithm is: \", precision_score(y_test, y_pred))\n",
    "print(\"Recall of the model using KNN Algorithm is: \", recall_score(y_test, y_pred))\n",
    "print(\"F1 Score of the model using KNN Algorithm is: \", f1_score(y_test, y_pred))"
   ]
  },
  {
   "cell_type": "code",
   "execution_count": null,
   "metadata": {},
   "outputs": [],
   "source": []
  }
 ],
 "metadata": {
  "colab": {
   "collapsed_sections": [],
   "name": "Classification.ipynb",
   "provenance": []
  },
  "kernelspec": {
   "display_name": "Python 3 (ipykernel)",
   "language": "python",
   "name": "python3"
  },
  "language_info": {
   "codemirror_mode": {
    "name": "ipython",
    "version": 3
   },
   "file_extension": ".py",
   "mimetype": "text/x-python",
   "name": "python",
   "nbconvert_exporter": "python",
   "pygments_lexer": "ipython3",
   "version": "3.9.7"
  }
 },
 "nbformat": 4,
 "nbformat_minor": 1
}
