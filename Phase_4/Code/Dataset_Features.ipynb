{
  "nbformat": 4,
  "nbformat_minor": 0,
  "metadata": {
    "colab": {
      "provenance": []
    },
    "kernelspec": {
      "name": "python3",
      "display_name": "Python 3"
    },
    "language_info": {
      "name": "python"
    },
    "accelerator": "GPU",
    "gpuClass": "standard"
  },
  "cells": [
    {
      "cell_type": "code",
      "source": [
        "!pip install tld"
      ],
      "metadata": {
        "colab": {
          "base_uri": "https://localhost:8080/"
        },
        "id": "tfkWJqpSeFKJ",
        "outputId": "15186a68-8038-4b4b-f55d-f241822af47a"
      },
      "execution_count": null,
      "outputs": [
        {
          "output_type": "stream",
          "name": "stdout",
          "text": [
            "Looking in indexes: https://pypi.org/simple, https://us-python.pkg.dev/colab-wheels/public/simple/\n",
            "Requirement already satisfied: tld in /usr/local/lib/python3.7/dist-packages (0.12.6)\n"
          ]
        }
      ]
    },
    {
      "cell_type": "code",
      "execution_count": null,
      "metadata": {
        "id": "gZAw1Pju-NkN"
      },
      "outputs": [],
      "source": [
        "import pandas as pd\n",
        "import numpy as np\n",
        "import re\n",
        "import os\n",
        "import urllib.parse\n",
        "import tld\n",
        "from tld import get_tld\n",
        "import time\n",
        "pd.options.mode.chained_assignment = None  # default='warn'"
      ]
    },
    {
      "cell_type": "code",
      "source": [
        "from google.colab import files\n",
        "uploaded = files.upload()"
      ],
      "metadata": {
        "colab": {
          "base_uri": "https://localhost:8080/",
          "height": 38
        },
        "id": "8Bte3JioTWBF",
        "outputId": "8dabcce0-b842-4e18-d175-84f5ade7810a"
      },
      "execution_count": null,
      "outputs": [
        {
          "output_type": "display_data",
          "data": {
            "text/plain": [
              "<IPython.core.display.HTML object>"
            ],
            "text/html": [
              "\n",
              "     <input type=\"file\" id=\"files-03cf31cf-c4d6-4b8f-8ce0-744ac7f6d29f\" name=\"files[]\" multiple disabled\n",
              "        style=\"border:none\" />\n",
              "     <output id=\"result-03cf31cf-c4d6-4b8f-8ce0-744ac7f6d29f\">\n",
              "      Upload widget is only available when the cell has been executed in the\n",
              "      current browser session. Please rerun this cell to enable.\n",
              "      </output>\n",
              "      <script>// Copyright 2017 Google LLC\n",
              "//\n",
              "// Licensed under the Apache License, Version 2.0 (the \"License\");\n",
              "// you may not use this file except in compliance with the License.\n",
              "// You may obtain a copy of the License at\n",
              "//\n",
              "//      http://www.apache.org/licenses/LICENSE-2.0\n",
              "//\n",
              "// Unless required by applicable law or agreed to in writing, software\n",
              "// distributed under the License is distributed on an \"AS IS\" BASIS,\n",
              "// WITHOUT WARRANTIES OR CONDITIONS OF ANY KIND, either express or implied.\n",
              "// See the License for the specific language governing permissions and\n",
              "// limitations under the License.\n",
              "\n",
              "/**\n",
              " * @fileoverview Helpers for google.colab Python module.\n",
              " */\n",
              "(function(scope) {\n",
              "function span(text, styleAttributes = {}) {\n",
              "  const element = document.createElement('span');\n",
              "  element.textContent = text;\n",
              "  for (const key of Object.keys(styleAttributes)) {\n",
              "    element.style[key] = styleAttributes[key];\n",
              "  }\n",
              "  return element;\n",
              "}\n",
              "\n",
              "// Max number of bytes which will be uploaded at a time.\n",
              "const MAX_PAYLOAD_SIZE = 100 * 1024;\n",
              "\n",
              "function _uploadFiles(inputId, outputId) {\n",
              "  const steps = uploadFilesStep(inputId, outputId);\n",
              "  const outputElement = document.getElementById(outputId);\n",
              "  // Cache steps on the outputElement to make it available for the next call\n",
              "  // to uploadFilesContinue from Python.\n",
              "  outputElement.steps = steps;\n",
              "\n",
              "  return _uploadFilesContinue(outputId);\n",
              "}\n",
              "\n",
              "// This is roughly an async generator (not supported in the browser yet),\n",
              "// where there are multiple asynchronous steps and the Python side is going\n",
              "// to poll for completion of each step.\n",
              "// This uses a Promise to block the python side on completion of each step,\n",
              "// then passes the result of the previous step as the input to the next step.\n",
              "function _uploadFilesContinue(outputId) {\n",
              "  const outputElement = document.getElementById(outputId);\n",
              "  const steps = outputElement.steps;\n",
              "\n",
              "  const next = steps.next(outputElement.lastPromiseValue);\n",
              "  return Promise.resolve(next.value.promise).then((value) => {\n",
              "    // Cache the last promise value to make it available to the next\n",
              "    // step of the generator.\n",
              "    outputElement.lastPromiseValue = value;\n",
              "    return next.value.response;\n",
              "  });\n",
              "}\n",
              "\n",
              "/**\n",
              " * Generator function which is called between each async step of the upload\n",
              " * process.\n",
              " * @param {string} inputId Element ID of the input file picker element.\n",
              " * @param {string} outputId Element ID of the output display.\n",
              " * @return {!Iterable<!Object>} Iterable of next steps.\n",
              " */\n",
              "function* uploadFilesStep(inputId, outputId) {\n",
              "  const inputElement = document.getElementById(inputId);\n",
              "  inputElement.disabled = false;\n",
              "\n",
              "  const outputElement = document.getElementById(outputId);\n",
              "  outputElement.innerHTML = '';\n",
              "\n",
              "  const pickedPromise = new Promise((resolve) => {\n",
              "    inputElement.addEventListener('change', (e) => {\n",
              "      resolve(e.target.files);\n",
              "    });\n",
              "  });\n",
              "\n",
              "  const cancel = document.createElement('button');\n",
              "  inputElement.parentElement.appendChild(cancel);\n",
              "  cancel.textContent = 'Cancel upload';\n",
              "  const cancelPromise = new Promise((resolve) => {\n",
              "    cancel.onclick = () => {\n",
              "      resolve(null);\n",
              "    };\n",
              "  });\n",
              "\n",
              "  // Wait for the user to pick the files.\n",
              "  const files = yield {\n",
              "    promise: Promise.race([pickedPromise, cancelPromise]),\n",
              "    response: {\n",
              "      action: 'starting',\n",
              "    }\n",
              "  };\n",
              "\n",
              "  cancel.remove();\n",
              "\n",
              "  // Disable the input element since further picks are not allowed.\n",
              "  inputElement.disabled = true;\n",
              "\n",
              "  if (!files) {\n",
              "    return {\n",
              "      response: {\n",
              "        action: 'complete',\n",
              "      }\n",
              "    };\n",
              "  }\n",
              "\n",
              "  for (const file of files) {\n",
              "    const li = document.createElement('li');\n",
              "    li.append(span(file.name, {fontWeight: 'bold'}));\n",
              "    li.append(span(\n",
              "        `(${file.type || 'n/a'}) - ${file.size} bytes, ` +\n",
              "        `last modified: ${\n",
              "            file.lastModifiedDate ? file.lastModifiedDate.toLocaleDateString() :\n",
              "                                    'n/a'} - `));\n",
              "    const percent = span('0% done');\n",
              "    li.appendChild(percent);\n",
              "\n",
              "    outputElement.appendChild(li);\n",
              "\n",
              "    const fileDataPromise = new Promise((resolve) => {\n",
              "      const reader = new FileReader();\n",
              "      reader.onload = (e) => {\n",
              "        resolve(e.target.result);\n",
              "      };\n",
              "      reader.readAsArrayBuffer(file);\n",
              "    });\n",
              "    // Wait for the data to be ready.\n",
              "    let fileData = yield {\n",
              "      promise: fileDataPromise,\n",
              "      response: {\n",
              "        action: 'continue',\n",
              "      }\n",
              "    };\n",
              "\n",
              "    // Use a chunked sending to avoid message size limits. See b/62115660.\n",
              "    let position = 0;\n",
              "    do {\n",
              "      const length = Math.min(fileData.byteLength - position, MAX_PAYLOAD_SIZE);\n",
              "      const chunk = new Uint8Array(fileData, position, length);\n",
              "      position += length;\n",
              "\n",
              "      const base64 = btoa(String.fromCharCode.apply(null, chunk));\n",
              "      yield {\n",
              "        response: {\n",
              "          action: 'append',\n",
              "          file: file.name,\n",
              "          data: base64,\n",
              "        },\n",
              "      };\n",
              "\n",
              "      let percentDone = fileData.byteLength === 0 ?\n",
              "          100 :\n",
              "          Math.round((position / fileData.byteLength) * 100);\n",
              "      percent.textContent = `${percentDone}% done`;\n",
              "\n",
              "    } while (position < fileData.byteLength);\n",
              "  }\n",
              "\n",
              "  // All done.\n",
              "  yield {\n",
              "    response: {\n",
              "      action: 'complete',\n",
              "    }\n",
              "  };\n",
              "}\n",
              "\n",
              "scope.google = scope.google || {};\n",
              "scope.google.colab = scope.google.colab || {};\n",
              "scope.google.colab._files = {\n",
              "  _uploadFiles,\n",
              "  _uploadFilesContinue,\n",
              "};\n",
              "})(self);\n",
              "</script> "
            ]
          },
          "metadata": {}
        }
      ]
    },
    {
      "cell_type": "code",
      "source": [
        "data = pd.read_csv(r\"mendeley_test.csv\")\n",
        "data.head()"
      ],
      "metadata": {
        "colab": {
          "base_uri": "https://localhost:8080/",
          "height": 206
        },
        "id": "43pEEey7TgZa",
        "outputId": "2ef28319-d562-4ad1-93cd-61668e4b8b0b"
      },
      "execution_count": null,
      "outputs": [
        {
          "output_type": "execute_result",
          "data": {
            "text/plain": [
              "                                                urls  label\n",
              "0               http://www.dutchthewiz.com/freeware/      0\n",
              "1                   http://www.collectiblejewels.com      0\n",
              "2                        http://www.deadlinedata.com      0\n",
              "3  http://www.mil.fi/maavoimat/kalustoesittely/00...      0\n",
              "4           http://www.avclub.com/content/node/24539      0"
            ],
            "text/html": [
              "\n",
              "  <div id=\"df-a36e66fe-c30d-47f0-bf25-749e4c398163\">\n",
              "    <div class=\"colab-df-container\">\n",
              "      <div>\n",
              "<style scoped>\n",
              "    .dataframe tbody tr th:only-of-type {\n",
              "        vertical-align: middle;\n",
              "    }\n",
              "\n",
              "    .dataframe tbody tr th {\n",
              "        vertical-align: top;\n",
              "    }\n",
              "\n",
              "    .dataframe thead th {\n",
              "        text-align: right;\n",
              "    }\n",
              "</style>\n",
              "<table border=\"1\" class=\"dataframe\">\n",
              "  <thead>\n",
              "    <tr style=\"text-align: right;\">\n",
              "      <th></th>\n",
              "      <th>urls</th>\n",
              "      <th>label</th>\n",
              "    </tr>\n",
              "  </thead>\n",
              "  <tbody>\n",
              "    <tr>\n",
              "      <th>0</th>\n",
              "      <td>http://www.dutchthewiz.com/freeware/</td>\n",
              "      <td>0</td>\n",
              "    </tr>\n",
              "    <tr>\n",
              "      <th>1</th>\n",
              "      <td>http://www.collectiblejewels.com</td>\n",
              "      <td>0</td>\n",
              "    </tr>\n",
              "    <tr>\n",
              "      <th>2</th>\n",
              "      <td>http://www.deadlinedata.com</td>\n",
              "      <td>0</td>\n",
              "    </tr>\n",
              "    <tr>\n",
              "      <th>3</th>\n",
              "      <td>http://www.mil.fi/maavoimat/kalustoesittely/00...</td>\n",
              "      <td>0</td>\n",
              "    </tr>\n",
              "    <tr>\n",
              "      <th>4</th>\n",
              "      <td>http://www.avclub.com/content/node/24539</td>\n",
              "      <td>0</td>\n",
              "    </tr>\n",
              "  </tbody>\n",
              "</table>\n",
              "</div>\n",
              "      <button class=\"colab-df-convert\" onclick=\"convertToInteractive('df-a36e66fe-c30d-47f0-bf25-749e4c398163')\"\n",
              "              title=\"Convert this dataframe to an interactive table.\"\n",
              "              style=\"display:none;\">\n",
              "        \n",
              "  <svg xmlns=\"http://www.w3.org/2000/svg\" height=\"24px\"viewBox=\"0 0 24 24\"\n",
              "       width=\"24px\">\n",
              "    <path d=\"M0 0h24v24H0V0z\" fill=\"none\"/>\n",
              "    <path d=\"M18.56 5.44l.94 2.06.94-2.06 2.06-.94-2.06-.94-.94-2.06-.94 2.06-2.06.94zm-11 1L8.5 8.5l.94-2.06 2.06-.94-2.06-.94L8.5 2.5l-.94 2.06-2.06.94zm10 10l.94 2.06.94-2.06 2.06-.94-2.06-.94-.94-2.06-.94 2.06-2.06.94z\"/><path d=\"M17.41 7.96l-1.37-1.37c-.4-.4-.92-.59-1.43-.59-.52 0-1.04.2-1.43.59L10.3 9.45l-7.72 7.72c-.78.78-.78 2.05 0 2.83L4 21.41c.39.39.9.59 1.41.59.51 0 1.02-.2 1.41-.59l7.78-7.78 2.81-2.81c.8-.78.8-2.07 0-2.86zM5.41 20L4 18.59l7.72-7.72 1.47 1.35L5.41 20z\"/>\n",
              "  </svg>\n",
              "      </button>\n",
              "      \n",
              "  <style>\n",
              "    .colab-df-container {\n",
              "      display:flex;\n",
              "      flex-wrap:wrap;\n",
              "      gap: 12px;\n",
              "    }\n",
              "\n",
              "    .colab-df-convert {\n",
              "      background-color: #E8F0FE;\n",
              "      border: none;\n",
              "      border-radius: 50%;\n",
              "      cursor: pointer;\n",
              "      display: none;\n",
              "      fill: #1967D2;\n",
              "      height: 32px;\n",
              "      padding: 0 0 0 0;\n",
              "      width: 32px;\n",
              "    }\n",
              "\n",
              "    .colab-df-convert:hover {\n",
              "      background-color: #E2EBFA;\n",
              "      box-shadow: 0px 1px 2px rgba(60, 64, 67, 0.3), 0px 1px 3px 1px rgba(60, 64, 67, 0.15);\n",
              "      fill: #174EA6;\n",
              "    }\n",
              "\n",
              "    [theme=dark] .colab-df-convert {\n",
              "      background-color: #3B4455;\n",
              "      fill: #D2E3FC;\n",
              "    }\n",
              "\n",
              "    [theme=dark] .colab-df-convert:hover {\n",
              "      background-color: #434B5C;\n",
              "      box-shadow: 0px 1px 3px 1px rgba(0, 0, 0, 0.15);\n",
              "      filter: drop-shadow(0px 1px 2px rgba(0, 0, 0, 0.3));\n",
              "      fill: #FFFFFF;\n",
              "    }\n",
              "  </style>\n",
              "\n",
              "      <script>\n",
              "        const buttonEl =\n",
              "          document.querySelector('#df-a36e66fe-c30d-47f0-bf25-749e4c398163 button.colab-df-convert');\n",
              "        buttonEl.style.display =\n",
              "          google.colab.kernel.accessAllowed ? 'block' : 'none';\n",
              "\n",
              "        async function convertToInteractive(key) {\n",
              "          const element = document.querySelector('#df-a36e66fe-c30d-47f0-bf25-749e4c398163');\n",
              "          const dataTable =\n",
              "            await google.colab.kernel.invokeFunction('convertToInteractive',\n",
              "                                                     [key], {});\n",
              "          if (!dataTable) return;\n",
              "\n",
              "          const docLinkHtml = 'Like what you see? Visit the ' +\n",
              "            '<a target=\"_blank\" href=https://colab.research.google.com/notebooks/data_table.ipynb>data table notebook</a>'\n",
              "            + ' to learn more about interactive tables.';\n",
              "          element.innerHTML = '';\n",
              "          dataTable['output_type'] = 'display_data';\n",
              "          await google.colab.output.renderOutput(dataTable, element);\n",
              "          const docLink = document.createElement('div');\n",
              "          docLink.innerHTML = docLinkHtml;\n",
              "          element.appendChild(docLink);\n",
              "        }\n",
              "      </script>\n",
              "    </div>\n",
              "  </div>\n",
              "  "
            ]
          },
          "metadata": {},
          "execution_count": 95
        }
      ]
    },
    {
      "cell_type": "code",
      "source": [
        "urls = data[\"urls\"]"
      ],
      "metadata": {
        "id": "BxRPpmzwY9jw"
      },
      "execution_count": null,
      "outputs": []
    },
    {
      "cell_type": "code",
      "source": [
        "urls"
      ],
      "metadata": {
        "colab": {
          "base_uri": "https://localhost:8080/"
        },
        "id": "WX1PUeAcZDX5",
        "outputId": "33704b13-e830-48bb-f9fc-120d71bd816a"
      },
      "execution_count": null,
      "outputs": [
        {
          "output_type": "execute_result",
          "data": {
            "text/plain": [
              "0                    http://www.dutchthewiz.com/freeware/\n",
              "1                        http://www.collectiblejewels.com\n",
              "2                             http://www.deadlinedata.com\n",
              "3       http://www.mil.fi/maavoimat/kalustoesittely/00...\n",
              "4                http://www.avclub.com/content/node/24539\n",
              "                              ...                        \n",
              "9995                http://www.freeadult2000.com/nonnude/\n",
              "9996               http://www.malestrippersunlimited.com/\n",
              "9997    http://www.troppobelle.net/disegni_a_matita/di...\n",
              "9998    http://www.mature-nude-woman.com/older-women-p...\n",
              "9999                http://www.anzwers.net/hot/maryblond/\n",
              "Name: urls, Length: 10000, dtype: object"
            ]
          },
          "metadata": {},
          "execution_count": 97
        }
      ]
    },
    {
      "cell_type": "markdown",
      "source": [
        "## **Hostname-based features**"
      ],
      "metadata": {
        "id": "tlKLPuv6e2A9"
      }
    },
    {
      "cell_type": "code",
      "source": [
        "#Get hostname of a URL\n",
        "def get_hostname(url):\n",
        "  url_parts = urllib.parse.urlsplit(url)\n",
        "  hostname = url_parts.hostname\n",
        "  return hostname"
      ],
      "metadata": {
        "id": "x-a192WJZO8e"
      },
      "execution_count": null,
      "outputs": []
    },
    {
      "cell_type": "code",
      "source": [
        "#Digits count in hostname:\n",
        "def digitcount_hostname(hname):\n",
        "  digits_count = re.findall(\"[0-9]\", hname)\n",
        "  return len(digits_count)"
      ],
      "metadata": {
        "id": "0B8QTaNhZlIa"
      },
      "execution_count": null,
      "outputs": []
    },
    {
      "cell_type": "code",
      "source": [
        "#@ in hostname\n",
        "def Checkatrate_hostname(hname):\n",
        "  present_atrate = 0\n",
        "  atrate = re.search(\"@\", hname)\n",
        "  if(atrate != None):\n",
        "    present_atrate = 1\n",
        "  return present_atrate"
      ],
      "metadata": {
        "id": "lgwW_BhbaBZM"
      },
      "execution_count": null,
      "outputs": []
    },
    {
      "cell_type": "code",
      "source": [
        "#average word length in hostname\n",
        "def avgWordLenHN(hname):\n",
        "  words = re.split(r\"\\W+\",hname)\n",
        "  average_length = sum(len(i) for i in words)/len(words)\n",
        "  return average_length"
      ],
      "metadata": {
        "id": "gvzESA36aSK8"
      },
      "execution_count": null,
      "outputs": []
    },
    {
      "cell_type": "code",
      "source": [
        "#Longest Word length in hostname\n",
        "def longWordLenHN(hname):\n",
        "  words = re.split(r\"\\W+\",hname)\n",
        "  longest_word = sorted(words, key = len)\n",
        "  return len(longest_word[-1])"
      ],
      "metadata": {
        "id": "By_29LBlazpp"
      },
      "execution_count": null,
      "outputs": []
    },
    {
      "cell_type": "code",
      "source": [
        "#hostname length\n",
        "def hnlength(hname):\n",
        "  return len(hname)"
      ],
      "metadata": {
        "id": "pFfq2UZEbtPp"
      },
      "execution_count": null,
      "outputs": []
    },
    {
      "cell_type": "code",
      "source": [
        "#Presence of phish word\n",
        "def checkPhishWordHost(hname):\n",
        "  phish_word_count = 0\n",
        "  presentPhishWord = 0\n",
        "  phish_words = [\"wp\", \"login\", \"Includes\", \"Admin\", \"Content\", \"Site\", \"Images\", \"js\", \"Alibaba\", \"css\", \"Myaccount\", \"Dropbox\", \"Themes\", \"Plugins\", \"Signin\", \"View\"]\n",
        "  for i in phish_words:\n",
        "    if i in hname:\n",
        "      phish_word_count+=1\n",
        "\n",
        "  if phish_word_count > 0:\n",
        "    presentPhishWord = 1\n",
        "  return presentPhishWord"
      ],
      "metadata": {
        "id": "bqlo98AgbO6C"
      },
      "execution_count": null,
      "outputs": []
    },
    {
      "cell_type": "code",
      "source": [
        "#Get domain name\n",
        "def getDomain(url):\n",
        "  url_parts = urllib.parse.urlsplit(url)\n",
        "  domain = url_parts.netloc\n",
        "  return domain"
      ],
      "metadata": {
        "id": "NRnkzCqib13n"
      },
      "execution_count": null,
      "outputs": []
    },
    {
      "cell_type": "code",
      "source": [
        "#Length of domain\n",
        "def domainLength(domain):\n",
        "  return len(domain)"
      ],
      "metadata": {
        "id": "g1sqZBalcQG-"
      },
      "execution_count": null,
      "outputs": []
    },
    {
      "cell_type": "code",
      "source": [
        "#Digits count in domain name\n",
        "def digitcount_domain(domain):\n",
        "  digits_count_domain = re.findall(\"[0-9]\", domain)\n",
        "  return len(digits_count_domain)"
      ],
      "metadata": {
        "id": "FFnthR61cgOx"
      },
      "execution_count": null,
      "outputs": []
    },
    {
      "cell_type": "code",
      "source": [
        "#Number of dots in the hostname\n",
        "def numberDotsHN(hname):\n",
        "  numberDots = re.findall(\"\\.\", hname)\n",
        "  return len(numberDots)"
      ],
      "metadata": {
        "id": "O2wbd0Foc4uK"
      },
      "execution_count": null,
      "outputs": []
    },
    {
      "cell_type": "code",
      "source": [
        "#Number of hyphens in the hostname\n",
        "def numberHypensHN(hname):\n",
        "  numberHypens = re.findall(\"\\-\", hname)\n",
        "  return len(numberHypens)"
      ],
      "metadata": {
        "id": "wFkYS4CRdJ8K"
      },
      "execution_count": null,
      "outputs": []
    },
    {
      "cell_type": "code",
      "source": [
        "#Number of underscores in the hostname\n",
        "def numberUnderscoreHN(hname):\n",
        "  numberUS = re.findall(\"\\_\", hname)\n",
        "  return len(numberUS)"
      ],
      "metadata": {
        "id": "SQMQSlQldbQA"
      },
      "execution_count": null,
      "outputs": []
    },
    {
      "cell_type": "code",
      "source": [
        "#Validate TLD\n",
        "def validateTLD(hname):\n",
        "  checkTLD = 0\n",
        "  try:\n",
        "    urlTLD = get_tld(hname)\n",
        "    if urlTLD!=None:\n",
        "      checkTLD = 1\n",
        "  except:\n",
        "    checkTLD=0\n",
        "  return checkTLD"
      ],
      "metadata": {
        "id": "vEXiF77OdsI0"
      },
      "execution_count": null,
      "outputs": []
    },
    {
      "cell_type": "code",
      "source": [
        "#Presence of underscores in the hostname\n",
        "def presenceUnderscore(hname):\n",
        "  presenceUnderScore = 0\n",
        "  numberUnderScore = re.findall(\"\\_\", hname)\n",
        "  if(len(numberUnderScore) > 0):\n",
        "    presenceUnderScore = 1\n",
        "\n",
        "  return presenceUnderScore"
      ],
      "metadata": {
        "id": "zUZE4m_5eexL"
      },
      "execution_count": null,
      "outputs": []
    },
    {
      "cell_type": "markdown",
      "source": [
        "## **Full-URL Based Features**"
      ],
      "metadata": {
        "id": "vfy62GhGfAwr"
      }
    },
    {
      "cell_type": "code",
      "source": [
        "#Presence of @ in URL\n",
        "def presenceAtrate(url):\n",
        "  present_atrate = 0\n",
        "  atrate = re.search(\"@\", url)\n",
        "  if(atrate != None):\n",
        "    present_atrate = 1\n",
        "  return present_atrate"
      ],
      "metadata": {
        "id": "okgOmcm9gXQc"
      },
      "execution_count": null,
      "outputs": []
    },
    {
      "cell_type": "code",
      "source": [
        "#Get path in url\n",
        "def getPathURL(url):\n",
        "  url_parts = urllib.parse.urlsplit(url)\n",
        "  path = url_parts.path\n",
        "  return path"
      ],
      "metadata": {
        "id": "ZNcVnueZhQaB"
      },
      "execution_count": null,
      "outputs": []
    },
    {
      "cell_type": "code",
      "source": [
        "#Digits count in the path\n",
        "def digitcount_url(path):\n",
        "  digits_count = re.findall(\"[0-9]\", path)\n",
        "  return len(digits_count)"
      ],
      "metadata": {
        "id": "Yk_Zc1wkg_Dg"
      },
      "execution_count": null,
      "outputs": []
    },
    {
      "cell_type": "code",
      "source": [
        "#Average word length in the path\n",
        "def avgWordLenPath(path):\n",
        "  words = re.split(r\"\\W+\",path)\n",
        "  average_length = sum(len(i) for i in words)/len(words)\n",
        "  return average_length"
      ],
      "metadata": {
        "id": "yygk858MjVGA"
      },
      "execution_count": null,
      "outputs": []
    },
    {
      "cell_type": "code",
      "source": [
        "#Longest word length in the path\n",
        "def longWordLenPath(path):\n",
        "  words = re.split(r\"\\W+\",path)\n",
        "  longest_word_path = sorted(words, key = len)\n",
        "  return len(longest_word_path[-1])"
      ],
      "metadata": {
        "id": "QHQffmsQjqHP"
      },
      "execution_count": null,
      "outputs": []
    },
    {
      "cell_type": "code",
      "source": [
        "#Getting baseurl\n",
        "def baseURL(url):\n",
        "  baseurl = os.path.dirname(url)\n",
        "  return baseurl"
      ],
      "metadata": {
        "id": "lEe_52HZkENH"
      },
      "execution_count": null,
      "outputs": []
    },
    {
      "cell_type": "code",
      "source": [
        "#BaseURL length\n",
        "def baseURLlen(burl):\n",
        "  return len(burl)"
      ],
      "metadata": {
        "id": "JdJc4Az9kQAp"
      },
      "execution_count": null,
      "outputs": []
    },
    {
      "cell_type": "code",
      "source": [
        "#Presence of Phish-Hinted words in the path\n",
        "def CheckPhishWordPath(path):\n",
        "  phish_word_countPath = 0\n",
        "  presentPhishWordPath = 0\n",
        "  phish_words = [\"wp\", \"login\", \"Includes\", \"Admin\", \"Content\", \"Site\", \"Images\", \"js\", \"Alibaba\", \"css\", \"Myaccount\", \"Dropbox\", \"Themes\", \"Plugins\", \"Signin\", \"View\"]\n",
        "  for i in phish_words:\n",
        "    if i in path:\n",
        "      phish_word_countPath+=1\n",
        "\n",
        "  if phish_word_countPath > 0:\n",
        "    presentPhishWordPath = 1\n",
        "  return presentPhishWordPath"
      ],
      "metadata": {
        "id": "NpWYJjZika_4"
      },
      "execution_count": null,
      "outputs": []
    },
    {
      "cell_type": "code",
      "source": [
        "#Question mark count in the URL\n",
        "def questionCount(url):\n",
        "  numberQmarks = re.findall(\"\\?\",url)\n",
        "  return len(numberQmarks)"
      ],
      "metadata": {
        "id": "VtX3XE7ZkxTz"
      },
      "execution_count": null,
      "outputs": []
    },
    {
      "cell_type": "code",
      "source": [
        "#Slash count in the path\n",
        "def slashCountPath(path):\n",
        "  numberSlash = re.findall(\"\\/\",path)\n",
        "  return len(numberSlash)"
      ],
      "metadata": {
        "id": "OOXgUPYYlJk1"
      },
      "execution_count": null,
      "outputs": []
    },
    {
      "cell_type": "code",
      "source": [
        "#HTTPS count in the path\n",
        "def httpsCountPath(path):\n",
        "  httpsPath = re.findall(\"https\", path)\n",
        "  return len(httpsPath)"
      ],
      "metadata": {
        "id": "f0m2q3CElZxD"
      },
      "execution_count": null,
      "outputs": []
    },
    {
      "cell_type": "code",
      "source": [
        "#Presence of $ in the base URL\n",
        "def presentDollar(burl):\n",
        "  presentdollarBaseUrl = 0\n",
        "  numberdollarbaseUrl = re.findall(\"\\$\", burl)\n",
        "\n",
        "  if len(numberdollarbaseUrl) > 0:\n",
        "    presentdollarBaseUrl = 1\n",
        "\n",
        "  return presentdollarBaseUrl"
      ],
      "metadata": {
        "id": "C3cg8dKymrj7"
      },
      "execution_count": null,
      "outputs": []
    },
    {
      "cell_type": "code",
      "source": [
        "# Presence of comma in the base URL\n",
        "def presentComma(burl):\n",
        "  presentcommaBaseUrl = 0\n",
        "  numbercommabaseUrl = re.findall(\"\\,\", burl)\n",
        "\n",
        "  if len(numbercommabaseUrl) > 0:\n",
        "    presentcommaBaseUrl = 1\n",
        "\n",
        "  return presentcommaBaseUrl"
      ],
      "metadata": {
        "id": "H3nYeqOUm2d3"
      },
      "execution_count": null,
      "outputs": []
    },
    {
      "cell_type": "code",
      "source": [
        "#Presence of * in the base URL\n",
        "def presentAsterisk(burl):\n",
        "  presentarBaseUrl = 0\n",
        "  numberarbaseUrl = re.findall(\"\\*\", burl)\n",
        "\n",
        "  if len(numberarbaseUrl) > 0:\n",
        "    presentarBaseUrl = 1\n",
        "\n",
        "  return presentarBaseUrl"
      ],
      "metadata": {
        "id": "1Q3cW_DZnixL"
      },
      "execution_count": null,
      "outputs": []
    },
    {
      "cell_type": "code",
      "source": [
        "# Presence of OR symbol in the base URL'\n",
        "def presentOR(burl):\n",
        "  presentorBaseUrl = 0\n",
        "  numberorbaseUrl = re.findall(\"\\|\", burl)\n",
        "\n",
        "  if len(numberorbaseUrl) > 0:\n",
        "    presentorBaseUrl = 1\n",
        "\n",
        "  return presentorBaseUrl"
      ],
      "metadata": {
        "id": "-Du5ueOlnxAw"
      },
      "execution_count": null,
      "outputs": []
    },
    {
      "cell_type": "code",
      "source": [
        "#Presence of semicolon in the base URL\n",
        "def presentSemiColon(burl):\n",
        "  presentscBaseUrl = 0\n",
        "  numberscbaseUrl = re.findall(\"\\;\", burl)\n",
        "\n",
        "  if len(numberscbaseUrl) > 0:\n",
        "    presentscBaseUrl = 1\n",
        "\n",
        "  return presentscBaseUrl"
      ],
      "metadata": {
        "id": "-G7cBjPvoN9a"
      },
      "execution_count": null,
      "outputs": []
    },
    {
      "cell_type": "code",
      "source": [
        "#Presence of white space in the base URL\n",
        "def presentWhiteSpace(burl):\n",
        "  presentWhiteSpace = 0\n",
        "  numberWhiteSpace = re.findall(\" \", burl)\n",
        "\n",
        "  if len(numberWhiteSpace) > 0:\n",
        "    presentWhiteSpace = 1\n",
        "\n",
        "  return presentWhiteSpace"
      ],
      "metadata": {
        "id": "Tr_SY4W8obgb"
      },
      "execution_count": null,
      "outputs": []
    },
    {
      "cell_type": "code",
      "source": [
        "#Presence of HTTPS in the base URL\n",
        "def presentHttps(burl):\n",
        "  presenthttps = 0\n",
        "  https = re.search(\"https\", burl)\n",
        "  if https != None:\n",
        "    presenthttps = 1\n",
        "  return presenthttps\n"
      ],
      "metadata": {
        "id": "y0p-aeB6pDJI"
      },
      "execution_count": null,
      "outputs": []
    },
    {
      "cell_type": "code",
      "source": [
        "#Tokens in the path\n",
        "def tokensPath(path):\n",
        "  countDotsPath = re.findall(\"\\.\", path)\n",
        "  countcommaPath = re.findall(\"\\,\", path)\n",
        "  countDollarPath = re.findall(\"\\$\", path)\n",
        "  countSemiColonPath = re.findall(\"\\;\", path)\n",
        "  countColonPath = re.findall(\"\\:\", path)\n",
        "  countSlash = re.findall(\"\\/\", path)\n",
        "  countUnderScore = re.findall(\"\\_\", path)\n",
        "\n",
        "  return [len(countDotsPath), len(countcommaPath), len(countDollarPath), len(countSemiColonPath), len(countColonPath),len(countSlash), len(countUnderScore)]"
      ],
      "metadata": {
        "id": "8KFLIgHVqsnC"
      },
      "execution_count": null,
      "outputs": []
    },
    {
      "cell_type": "code",
      "source": [
        "# df = pd.DataFrame(columns=[\"digitsHostname\", \"PresentAtrateHost\", \"AvgWordLenHost\", \"LongWordLenHost\", \"HostNameLen\", \"domainLen\", \"digitsDomain\", \"dotsHost\", \"HypensHost\", \"UnderScoreHost\", \"hasTLD\", \"hasUnderScore\", \"hasAtRate\", \"digitsCountPath\", \"AvgWordLenPath\", \"LongWordLenPath\", \"baseurlLen\", \"hasPhishPath\", \"hasQuestionMark\", \"hasSlashPath\", \"httpsCountpath\", \"hasDollarBase\", \"hasCommaBase\", \"hasAsteriskBase\", \"hasOrBase\", \"hasSemiColonBase\", \"hasWhiteSpaceBase\", \"hasHttpsBase\", \"hasDotsPath\", \"hascommaPath\", \"hasDollarPath\", \"hasSemiColonPath\", \"hasColonPath\", \"hasSlashCount\", \"hasUnderScorePath\"])\n",
        "# print(df)"
      ],
      "metadata": {
        "id": "PUeih-0Axr7A"
      },
      "execution_count": null,
      "outputs": []
    },
    {
      "cell_type": "code",
      "source": [
        "df = data"
      ],
      "metadata": {
        "id": "9UYNUJjBYTRC"
      },
      "execution_count": null,
      "outputs": []
    },
    {
      "cell_type": "code",
      "source": [
        "#Main Function\n",
        "\n",
        "\n",
        "\n",
        "df[\"digitsHostname\"] = \" \"\n",
        "df[\"PresentAtrateHost\"] = \" \"\n",
        "df[\"AvgWordLenHost\"] = \" \"\n",
        "df[\"LongWordLenHost\"] = \" \"\n",
        "df[\"HostNameLen\"] = \" \"\n",
        "df[\"domainLen\"] = \" \"\n",
        "df[\"digitsDomain\"] = \" \"\n",
        "df[\"dotsHost\"] = \" \"\n",
        "df[\"HypensHost\"] = \" \"\n",
        "df[\"UnderScoreHost\"] = \" \"\n",
        "df[\"hasTLD\"] = \" \"\n",
        "df[\"hasUnderScore\"] = \" \"\n",
        "\n",
        "df[\"hasAtRate\"] = \" \"\n",
        "df[\"digitsCountPath\"] = \" \"\n",
        "df[\"AvgWordLenPath\"] = \" \"\n",
        "df[\"LongWordLenPath\"] = \" \"\n",
        "df[\"baseurlLen\"] = \" \"\n",
        "df[\"hasPhishPath\"] = \" \"\n",
        "df[\"hasQuestionMark\"] = \" \"\n",
        "df[\"hasSlashPath\"] = \" \"\n",
        "df[\"httpsCountpath\"] = \" \"\n",
        "df[\"hasDollarBase\"] = \" \"\n",
        "df[\"hasCommaBase\"] = \" \"\n",
        "df[\"hasAsteriskBase\"] = \" \"\n",
        "df[\"hasOrBase\"] = \" \"\n",
        "df[\"hasSemiColonBase\"] = \" \"\n",
        "df[\"hasWhiteSpaceBase\"] = \" \"\n",
        "df[\"hasHttpsBase\"] = \" \"\n",
        "df[\"hasDotsPath\"] = \" \"\n",
        "df[\"hascommaPath\"] = \" \"\n",
        "df[\"hasDollarPath\"] = \" \"\n",
        "df[\"hasSemiColonPath\"] = \" \"\n",
        "df[\"hasColonPath\"] = \" \"\n",
        "df[\"hasSlashCount\"] = \" \"\n",
        "df[\"hasUnderScorePath\"] = \" \"\n",
        "\n",
        "start = time.time()\n",
        "\n",
        "index = 0\n",
        "\n",
        "for i in urls:\n",
        "  #Host name based features\n",
        "  \n",
        "  hostname = get_hostname(i)\n",
        "  digitsHostname = digitcount_hostname(hostname)\n",
        "  PresentAtrateHost = Checkatrate_hostname(hostname)\n",
        "  AvgWordLenHost = avgWordLenHN(hostname)\n",
        "  LongWordLenHost = longWordLenHN(hostname)\n",
        "  HostNameLen = hnlength(hostname)\n",
        "  CheckPhishHost = checkPhishWordHost(hostname)\n",
        "  domainname = getDomain(i)\n",
        "  domainLen = domainLength(domainname)\n",
        "  digitsDomain = digitcount_domain(domainname)\n",
        "  dotsHost = numberDotsHN(hostname)\n",
        "  HypensHost = numberHypensHN(hostname)\n",
        "  UnderScoreHost = numberUnderscoreHN(hostname)\n",
        "  hastld = validateTLD(hostname)\n",
        "  hasUnderScore = presenceUnderscore(hostname)\n",
        "\n",
        "  #FullURL based\n",
        "  hasAtRate = presenceAtrate(i)\n",
        "  path = getPathURL(i)\n",
        "  digitsCountPath = digitcount_url(path)\n",
        "  AvgWordLenPath = avgWordLenPath(path)\n",
        "  LongWordLenPath = longWordLenPath(path)\n",
        "  baseurl = baseURL(i)\n",
        "  baseurlLen = baseURLlen(baseurl)\n",
        "  hasPhishPath = CheckPhishWordPath(path)\n",
        "  hasQuestionMark = questionCount(i)\n",
        "  hasSlashPath = slashCountPath(path)\n",
        "  httpsCountpath = httpsCountPath(path)\n",
        "  hasDollarBase = presentDollar(baseurl)\n",
        "  hasCommaBase = presentComma(baseurl)\n",
        "  hasAsteriskBase = presentAsterisk(baseurl)\n",
        "  hasOrBase = presentOR(baseurl)\n",
        "  hasSemiColonBase = presentSemiColon(baseurl)\n",
        "  hasWhiteSpaceBase = presentWhiteSpace(baseurl)\n",
        "  hasHttpsBase = presentHttps(baseurl)\n",
        "  tokens_list = tokensPath(path)\n",
        "  hasDotsPath = tokens_list[0]\n",
        "  hascommaPath = tokens_list[1]\n",
        "  hasDollarPath = tokens_list[2]\n",
        "  hasSemiColonPath = tokens_list[3]\n",
        "  hasColonPath = tokens_list[4]\n",
        "  hasSlashCount = tokens_list[5]\n",
        "  hasUnderScorePath = tokens_list[6]\n",
        "\n",
        "  df[\"digitsHostname\"][index] = digitsHostname\n",
        "  df[\"PresentAtrateHost\"][index] = PresentAtrateHost\n",
        "  df[\"AvgWordLenHost\"][index] = AvgWordLenHost\n",
        "  df[\"LongWordLenHost\"][index] = LongWordLenHost\n",
        "  df[\"HostNameLen\"][index] = HostNameLen\n",
        "  df[\"domainLen\"][index] = domainLen\n",
        "  df[\"digitsDomain\"][index] = digitsDomain\n",
        "  df[\"dotsHost\"][index] = dotsHost\n",
        "  df[\"HypensHost\"][index] = HypensHost\n",
        "  df[\"UnderScoreHost\"][index] = UnderScoreHost\n",
        "  df[\"hasTLD\"][index] = hastld\n",
        "  df[\"hasUnderScore\"][index] = hasUnderScore\n",
        "\n",
        "  df[\"hasAtRate\"][index] = hasAtRate\n",
        "  df[\"digitsCountPath\"][index] = digitsCountPath\n",
        "  df[\"AvgWordLenPath\"][index] = AvgWordLenPath\n",
        "  df[\"LongWordLenPath\"][index] = LongWordLenPath\n",
        "  df[\"baseurlLen\"][index] = baseurlLen\n",
        "  df[\"hasPhishPath\"][index] = hasPhishPath\n",
        "  df[\"hasQuestionMark\"][index] = hasQuestionMark\n",
        "  df[\"hasSlashPath\"][index] = hasSlashPath\n",
        "  df[\"httpsCountpath\"][index] = httpsCountpath\n",
        "  df[\"hasDollarBase\"][index] = hasDollarBase\n",
        "  df[\"hasCommaBase\"][index] = hasCommaBase\n",
        "  df[\"hasAsteriskBase\"][index] = hasAsteriskBase\n",
        "  df[\"hasOrBase\"][index] = hasOrBase\n",
        "  df[\"hasSemiColonBase\"][index] = hasSemiColonBase\n",
        "  df[\"hasWhiteSpaceBase\"][index] = hasWhiteSpaceBase\n",
        "  df[\"hasHttpsBase\"][index] = hasHttpsBase\n",
        "  df[\"hasDotsPath\"][index] = hasDotsPath\n",
        "  df[\"hascommaPath\"][index] = hascommaPath\n",
        "  df[\"hasDollarPath\"][index] = hasDollarPath\n",
        "  df[\"hasSemiColonPath\"][index] = hasSemiColonPath\n",
        "  df[\"hasColonPath\"][index] = hasColonPath\n",
        "  df[\"hasSlashCount\"][index] = hasSlashCount\n",
        "  df[\"hasUnderScorePath\"][index] = hasUnderScorePath\n",
        "\n",
        "  index+=1\n",
        "\n",
        "end = time.time()\n",
        "totalTime = end - start\n",
        "\n",
        "print(\"Time taken to execute this program is: \", totalTime)\n"
      ],
      "metadata": {
        "colab": {
          "base_uri": "https://localhost:8080/"
        },
        "id": "2bVxYCfqx3jP",
        "outputId": "9a9cf4ee-e7bc-412d-e04d-1f6f97223b46"
      },
      "execution_count": null,
      "outputs": [
        {
          "output_type": "stream",
          "name": "stdout",
          "text": [
            "Time taken to execute this program is:  136.5597722530365\n"
          ]
        }
      ]
    },
    {
      "cell_type": "code",
      "source": [
        "df.to_csv(r\"mendeley_test_lexical.csv\")"
      ],
      "metadata": {
        "id": "58M5d2yYUZw-"
      },
      "execution_count": null,
      "outputs": []
    }
  ]
}